{
 "cells": [
  {
   "cell_type": "markdown",
   "id": "22d512dc",
   "metadata": {
    "papermill": {
     "duration": 0.005867,
     "end_time": "2022-08-31T08:44:39.233694",
     "exception": false,
     "start_time": "2022-08-31T08:44:39.227827",
     "status": "completed"
    },
    "tags": []
   },
   "source": [
    "**This notebook is an exercise in the [Data Visualization](https://www.kaggle.com/learn/data-visualization) course.  You can reference the tutorial at [this link](https://www.kaggle.com/alexisbcook/final-project).**\n",
    "\n",
    "---\n"
   ]
  },
  {
   "cell_type": "markdown",
   "id": "2a71ecf9",
   "metadata": {
    "papermill": {
     "duration": 0.004372,
     "end_time": "2022-08-31T08:44:39.242914",
     "exception": false,
     "start_time": "2022-08-31T08:44:39.238542",
     "status": "completed"
    },
    "tags": []
   },
   "source": [
    "Now it's time for you to demonstrate your new skills with a project of your own!\n",
    "\n",
    "In this exercise, you will work with a dataset of your choosing.  Once you've selected a dataset, you'll design and create your own plot to tell interesting stories behind the data!\n",
    "\n",
    "## Setup\n",
    "\n",
    "Run the next cell to import and configure the Python libraries that you need to complete the exercise."
   ]
  },
  {
   "cell_type": "code",
   "execution_count": 1,
   "id": "2de0a89a",
   "metadata": {
    "execution": {
     "iopub.execute_input": "2022-08-31T08:44:39.253753Z",
     "iopub.status.busy": "2022-08-31T08:44:39.253295Z",
     "iopub.status.idle": "2022-08-31T08:44:40.327133Z",
     "shell.execute_reply": "2022-08-31T08:44:40.325895Z"
    },
    "papermill": {
     "duration": 1.083625,
     "end_time": "2022-08-31T08:44:40.331049",
     "exception": false,
     "start_time": "2022-08-31T08:44:39.247424",
     "status": "completed"
    },
    "tags": []
   },
   "outputs": [
    {
     "name": "stdout",
     "output_type": "stream",
     "text": [
      "Setup Complete\n"
     ]
    }
   ],
   "source": [
    "import pandas as pd\n",
    "pd.plotting.register_matplotlib_converters()\n",
    "import matplotlib.pyplot as plt\n",
    "%matplotlib inline\n",
    "import seaborn as sns\n",
    "print(\"Setup Complete\")"
   ]
  },
  {
   "cell_type": "markdown",
   "id": "bba49dad",
   "metadata": {
    "papermill": {
     "duration": 0.00535,
     "end_time": "2022-08-31T08:44:40.342175",
     "exception": false,
     "start_time": "2022-08-31T08:44:40.336825",
     "status": "completed"
    },
    "tags": []
   },
   "source": [
    "The questions below will give you feedback on your work. Run the following cell to set up the feedback system."
   ]
  },
  {
   "cell_type": "code",
   "execution_count": 2,
   "id": "4b3558dc",
   "metadata": {
    "execution": {
     "iopub.execute_input": "2022-08-31T08:44:40.354295Z",
     "iopub.status.busy": "2022-08-31T08:44:40.353830Z",
     "iopub.status.idle": "2022-08-31T08:44:40.394892Z",
     "shell.execute_reply": "2022-08-31T08:44:40.393564Z"
    },
    "papermill": {
     "duration": 0.051009,
     "end_time": "2022-08-31T08:44:40.398079",
     "exception": false,
     "start_time": "2022-08-31T08:44:40.347070",
     "status": "completed"
    },
    "tags": []
   },
   "outputs": [
    {
     "name": "stdout",
     "output_type": "stream",
     "text": [
      "Setup Complete\n"
     ]
    }
   ],
   "source": [
    "# Set up code checking\n",
    "from learntools.core import binder\n",
    "binder.bind(globals())\n",
    "from learntools.data_viz_to_coder.ex7 import *\n",
    "print(\"Setup Complete\")"
   ]
  },
  {
   "cell_type": "markdown",
   "id": "869294fa",
   "metadata": {
    "papermill": {
     "duration": 0.004547,
     "end_time": "2022-08-31T08:44:40.407818",
     "exception": false,
     "start_time": "2022-08-31T08:44:40.403271",
     "status": "completed"
    },
    "tags": []
   },
   "source": [
    "## Step 1: Attach a dataset to the notebook\n",
    "\n",
    "Begin by selecting a CSV dataset from [Kaggle Datasets](https://www.kaggle.com/datasets).  If you're unsure how to do this, please revisit the instructions in the previous tutorial.\n",
    "\n",
    "Once you have selected a dataset, click on the **[+ Add data]** option in the top right corner.  This will generate a pop-up window that you can use to search for your chosen dataset.  \n",
    "\n",
    "![ex6_search_dataset](https://i.imgur.com/cIIWPUS.png)\n",
    "\n",
    "Once you have found the dataset, click on the **[Add]** button to attach it to the notebook.  You can check that it was successful by looking at the **Data** dropdown menu to the right of the notebook -- look for an **input** folder containing a subfolder that matches the name of the dataset.\n",
    "\n",
    "<center>\n",
    "<img src=\"https://i.imgur.com/nMYc1Nu.png\" width=30%><br/>\n",
    "</center>\n",
    "\n",
    "You can click on the carat to the left of the name of the dataset to double-check that it contains a CSV file.  For instance, the image below shows that the example dataset contains two CSV files: (1) **dc-wikia-data.csv**, and (2) **marvel-wikia-data.csv**.\n",
    "\n",
    "<center>\n",
    "<img src=\"https://i.imgur.com/B4sJkVA.png\" width=30%><br/>\n",
    "</center>\n",
    "\n",
    "Once you've uploaded a dataset with a CSV file, run the code cell below **without changes** to receive credit for your work!"
   ]
  },
  {
   "cell_type": "code",
   "execution_count": 3,
   "id": "f72d708b",
   "metadata": {
    "execution": {
     "iopub.execute_input": "2022-08-31T08:44:40.420702Z",
     "iopub.status.busy": "2022-08-31T08:44:40.419778Z",
     "iopub.status.idle": "2022-08-31T08:44:40.437674Z",
     "shell.execute_reply": "2022-08-31T08:44:40.436468Z"
    },
    "papermill": {
     "duration": 0.026193,
     "end_time": "2022-08-31T08:44:40.439855",
     "exception": false,
     "start_time": "2022-08-31T08:44:40.413662",
     "status": "completed"
    },
    "tags": []
   },
   "outputs": [
    {
     "data": {
      "application/javascript": [
       "parent.postMessage({\"jupyterEvent\": \"custom.exercise_interaction\", \"data\": {\"outcomeType\": 1, \"valueTowardsCompletion\": 0.25, \"interactionType\": 1, \"questionType\": 2, \"questionId\": \"1_AttachData\", \"learnToolsVersion\": \"0.3.4\", \"failureMessage\": \"\", \"exceptionClass\": \"\", \"trace\": \"\"}}, \"*\")"
      ],
      "text/plain": [
       "<IPython.core.display.Javascript object>"
      ]
     },
     "metadata": {},
     "output_type": "display_data"
    },
    {
     "data": {
      "text/markdown": [
       "<span style=\"color:#33cc33\">Correct:</span> \n",
       "\n"
      ],
      "text/plain": [
       "Correct: \n"
      ]
     },
     "metadata": {},
     "output_type": "display_data"
    }
   ],
   "source": [
    "# Check for a dataset with a CSV file\n",
    "step_1.check()"
   ]
  },
  {
   "cell_type": "markdown",
   "id": "aa5b592e",
   "metadata": {
    "papermill": {
     "duration": 0.004694,
     "end_time": "2022-08-31T08:44:40.449574",
     "exception": false,
     "start_time": "2022-08-31T08:44:40.444880",
     "status": "completed"
    },
    "tags": []
   },
   "source": [
    "## Step 2: Specify the filepath\n",
    "\n",
    "Now that the dataset is attached to the notebook, you can find its filepath.  To do this, begin by clicking on the CSV file you'd like to use.  This will open the CSV file in a tab below the notebook.  You can find the filepath towards the top of this new tab.  \n",
    "\n",
    "![ex6_filepath](https://i.imgur.com/fgXQV47.png)\n",
    "\n",
    "After you find the filepath corresponding to your dataset, fill it in as the value for `my_filepath` in the code cell below, and run the code cell to check that you've provided a valid filepath.  For instance, in the case of this example dataset, we would set\n",
    "```\n",
    "my_filepath = \"../input/fivethirtyeight-comic-characters-dataset/dc-wikia-data.csv\"\n",
    "```  \n",
    "Note that **you must enclose the filepath in quotation marks**; otherwise, the code will return an error.\n",
    "\n",
    "Once you've entered the filepath, you can close the tab below the notebook by clicking on the **[X]** at the top of the tab."
   ]
  },
  {
   "cell_type": "code",
   "execution_count": 4,
   "id": "4fb0a57c",
   "metadata": {
    "execution": {
     "iopub.execute_input": "2022-08-31T08:44:40.461530Z",
     "iopub.status.busy": "2022-08-31T08:44:40.460873Z",
     "iopub.status.idle": "2022-08-31T08:44:40.468549Z",
     "shell.execute_reply": "2022-08-31T08:44:40.467683Z"
    },
    "papermill": {
     "duration": 0.016049,
     "end_time": "2022-08-31T08:44:40.470720",
     "exception": false,
     "start_time": "2022-08-31T08:44:40.454671",
     "status": "completed"
    },
    "tags": []
   },
   "outputs": [
    {
     "data": {
      "application/javascript": [
       "parent.postMessage({\"jupyterEvent\": \"custom.exercise_interaction\", \"data\": {\"outcomeType\": 1, \"valueTowardsCompletion\": 0.25, \"interactionType\": 1, \"questionType\": 2, \"questionId\": \"2_Filepath\", \"learnToolsVersion\": \"0.3.4\", \"failureMessage\": \"\", \"exceptionClass\": \"\", \"trace\": \"\"}}, \"*\")"
      ],
      "text/plain": [
       "<IPython.core.display.Javascript object>"
      ]
     },
     "metadata": {},
     "output_type": "display_data"
    },
    {
     "data": {
      "text/markdown": [
       "<span style=\"color:#33cc33\">Correct:</span> \n",
       "\n"
      ],
      "text/plain": [
       "Correct: \n"
      ]
     },
     "metadata": {},
     "output_type": "display_data"
    }
   ],
   "source": [
    "# Fill in the line below: Specify the path of the CSV file to read\n",
    "my_filepath = '../input/fivethirtyeight-comic-characters-dataset/dc-wikia-data.csv'\n",
    "\n",
    "# Check for a valid filepath to a CSV file in a dataset\n",
    "step_2.check()"
   ]
  },
  {
   "cell_type": "markdown",
   "id": "afae2ece",
   "metadata": {
    "papermill": {
     "duration": 0.005107,
     "end_time": "2022-08-31T08:44:40.481123",
     "exception": false,
     "start_time": "2022-08-31T08:44:40.476016",
     "status": "completed"
    },
    "tags": []
   },
   "source": [
    "## Step 3: Load the data\n",
    "\n",
    "Use the next code cell to load your data file into `my_data`.  Use the filepath that you specified in the previous step."
   ]
  },
  {
   "cell_type": "code",
   "execution_count": 5,
   "id": "70ff20c2",
   "metadata": {
    "execution": {
     "iopub.execute_input": "2022-08-31T08:44:40.493591Z",
     "iopub.status.busy": "2022-08-31T08:44:40.492940Z",
     "iopub.status.idle": "2022-08-31T08:44:40.560986Z",
     "shell.execute_reply": "2022-08-31T08:44:40.560174Z"
    },
    "papermill": {
     "duration": 0.07656,
     "end_time": "2022-08-31T08:44:40.562994",
     "exception": false,
     "start_time": "2022-08-31T08:44:40.486434",
     "status": "completed"
    },
    "tags": []
   },
   "outputs": [
    {
     "data": {
      "application/javascript": [
       "parent.postMessage({\"jupyterEvent\": \"custom.exercise_interaction\", \"data\": {\"outcomeType\": 1, \"valueTowardsCompletion\": 0.25, \"interactionType\": 1, \"questionType\": 2, \"questionId\": \"3_LoadData\", \"learnToolsVersion\": \"0.3.4\", \"failureMessage\": \"\", \"exceptionClass\": \"\", \"trace\": \"\"}}, \"*\")"
      ],
      "text/plain": [
       "<IPython.core.display.Javascript object>"
      ]
     },
     "metadata": {},
     "output_type": "display_data"
    },
    {
     "data": {
      "text/markdown": [
       "<span style=\"color:#33cc33\">Correct:</span> \n",
       "\n"
      ],
      "text/plain": [
       "Correct: \n"
      ]
     },
     "metadata": {},
     "output_type": "display_data"
    }
   ],
   "source": [
    "# Fill in the line below: Read the file into a variable my_data\n",
    "my_data = pd.read_csv(my_filepath,index_col='page_id')\n",
    "\n",
    "# Check that a dataset has been uploaded into my_data\n",
    "step_3.check()"
   ]
  },
  {
   "cell_type": "markdown",
   "id": "7ae9dfde",
   "metadata": {
    "papermill": {
     "duration": 0.005356,
     "end_time": "2022-08-31T08:44:40.574016",
     "exception": false,
     "start_time": "2022-08-31T08:44:40.568660",
     "status": "completed"
    },
    "tags": []
   },
   "source": [
    "**_After the code cell above is marked correct_**, run the code cell below without changes to view the first five rows of the data."
   ]
  },
  {
   "cell_type": "code",
   "execution_count": 6,
   "id": "ae068840",
   "metadata": {
    "execution": {
     "iopub.execute_input": "2022-08-31T08:44:40.586756Z",
     "iopub.status.busy": "2022-08-31T08:44:40.585772Z",
     "iopub.status.idle": "2022-08-31T08:44:40.608695Z",
     "shell.execute_reply": "2022-08-31T08:44:40.607512Z"
    },
    "papermill": {
     "duration": 0.031785,
     "end_time": "2022-08-31T08:44:40.611114",
     "exception": false,
     "start_time": "2022-08-31T08:44:40.579329",
     "status": "completed"
    },
    "tags": []
   },
   "outputs": [
    {
     "data": {
      "text/html": [
       "<div>\n",
       "<style scoped>\n",
       "    .dataframe tbody tr th:only-of-type {\n",
       "        vertical-align: middle;\n",
       "    }\n",
       "\n",
       "    .dataframe tbody tr th {\n",
       "        vertical-align: top;\n",
       "    }\n",
       "\n",
       "    .dataframe thead th {\n",
       "        text-align: right;\n",
       "    }\n",
       "</style>\n",
       "<table border=\"1\" class=\"dataframe\">\n",
       "  <thead>\n",
       "    <tr style=\"text-align: right;\">\n",
       "      <th></th>\n",
       "      <th>name</th>\n",
       "      <th>urlslug</th>\n",
       "      <th>ID</th>\n",
       "      <th>ALIGN</th>\n",
       "      <th>EYE</th>\n",
       "      <th>HAIR</th>\n",
       "      <th>SEX</th>\n",
       "      <th>GSM</th>\n",
       "      <th>ALIVE</th>\n",
       "      <th>APPEARANCES</th>\n",
       "      <th>FIRST APPEARANCE</th>\n",
       "      <th>YEAR</th>\n",
       "    </tr>\n",
       "    <tr>\n",
       "      <th>page_id</th>\n",
       "      <th></th>\n",
       "      <th></th>\n",
       "      <th></th>\n",
       "      <th></th>\n",
       "      <th></th>\n",
       "      <th></th>\n",
       "      <th></th>\n",
       "      <th></th>\n",
       "      <th></th>\n",
       "      <th></th>\n",
       "      <th></th>\n",
       "      <th></th>\n",
       "    </tr>\n",
       "  </thead>\n",
       "  <tbody>\n",
       "    <tr>\n",
       "      <th>1422</th>\n",
       "      <td>Batman (Bruce Wayne)</td>\n",
       "      <td>\\/wiki\\/Batman_(Bruce_Wayne)</td>\n",
       "      <td>Secret Identity</td>\n",
       "      <td>Good Characters</td>\n",
       "      <td>Blue Eyes</td>\n",
       "      <td>Black Hair</td>\n",
       "      <td>Male Characters</td>\n",
       "      <td>NaN</td>\n",
       "      <td>Living Characters</td>\n",
       "      <td>3093.0</td>\n",
       "      <td>1939, May</td>\n",
       "      <td>1939.0</td>\n",
       "    </tr>\n",
       "    <tr>\n",
       "      <th>23387</th>\n",
       "      <td>Superman (Clark Kent)</td>\n",
       "      <td>\\/wiki\\/Superman_(Clark_Kent)</td>\n",
       "      <td>Secret Identity</td>\n",
       "      <td>Good Characters</td>\n",
       "      <td>Blue Eyes</td>\n",
       "      <td>Black Hair</td>\n",
       "      <td>Male Characters</td>\n",
       "      <td>NaN</td>\n",
       "      <td>Living Characters</td>\n",
       "      <td>2496.0</td>\n",
       "      <td>1986, October</td>\n",
       "      <td>1986.0</td>\n",
       "    </tr>\n",
       "    <tr>\n",
       "      <th>1458</th>\n",
       "      <td>Green Lantern (Hal Jordan)</td>\n",
       "      <td>\\/wiki\\/Green_Lantern_(Hal_Jordan)</td>\n",
       "      <td>Secret Identity</td>\n",
       "      <td>Good Characters</td>\n",
       "      <td>Brown Eyes</td>\n",
       "      <td>Brown Hair</td>\n",
       "      <td>Male Characters</td>\n",
       "      <td>NaN</td>\n",
       "      <td>Living Characters</td>\n",
       "      <td>1565.0</td>\n",
       "      <td>1959, October</td>\n",
       "      <td>1959.0</td>\n",
       "    </tr>\n",
       "    <tr>\n",
       "      <th>1659</th>\n",
       "      <td>James Gordon (New Earth)</td>\n",
       "      <td>\\/wiki\\/James_Gordon_(New_Earth)</td>\n",
       "      <td>Public Identity</td>\n",
       "      <td>Good Characters</td>\n",
       "      <td>Brown Eyes</td>\n",
       "      <td>White Hair</td>\n",
       "      <td>Male Characters</td>\n",
       "      <td>NaN</td>\n",
       "      <td>Living Characters</td>\n",
       "      <td>1316.0</td>\n",
       "      <td>1987, February</td>\n",
       "      <td>1987.0</td>\n",
       "    </tr>\n",
       "    <tr>\n",
       "      <th>1576</th>\n",
       "      <td>Richard Grayson (New Earth)</td>\n",
       "      <td>\\/wiki\\/Richard_Grayson_(New_Earth)</td>\n",
       "      <td>Secret Identity</td>\n",
       "      <td>Good Characters</td>\n",
       "      <td>Blue Eyes</td>\n",
       "      <td>Black Hair</td>\n",
       "      <td>Male Characters</td>\n",
       "      <td>NaN</td>\n",
       "      <td>Living Characters</td>\n",
       "      <td>1237.0</td>\n",
       "      <td>1940, April</td>\n",
       "      <td>1940.0</td>\n",
       "    </tr>\n",
       "  </tbody>\n",
       "</table>\n",
       "</div>"
      ],
      "text/plain": [
       "                                name                              urlslug  \\\n",
       "page_id                                                                     \n",
       "1422            Batman (Bruce Wayne)         \\/wiki\\/Batman_(Bruce_Wayne)   \n",
       "23387          Superman (Clark Kent)        \\/wiki\\/Superman_(Clark_Kent)   \n",
       "1458      Green Lantern (Hal Jordan)   \\/wiki\\/Green_Lantern_(Hal_Jordan)   \n",
       "1659        James Gordon (New Earth)     \\/wiki\\/James_Gordon_(New_Earth)   \n",
       "1576     Richard Grayson (New Earth)  \\/wiki\\/Richard_Grayson_(New_Earth)   \n",
       "\n",
       "                      ID            ALIGN         EYE        HAIR  \\\n",
       "page_id                                                             \n",
       "1422     Secret Identity  Good Characters   Blue Eyes  Black Hair   \n",
       "23387    Secret Identity  Good Characters   Blue Eyes  Black Hair   \n",
       "1458     Secret Identity  Good Characters  Brown Eyes  Brown Hair   \n",
       "1659     Public Identity  Good Characters  Brown Eyes  White Hair   \n",
       "1576     Secret Identity  Good Characters   Blue Eyes  Black Hair   \n",
       "\n",
       "                     SEX  GSM              ALIVE  APPEARANCES  \\\n",
       "page_id                                                         \n",
       "1422     Male Characters  NaN  Living Characters       3093.0   \n",
       "23387    Male Characters  NaN  Living Characters       2496.0   \n",
       "1458     Male Characters  NaN  Living Characters       1565.0   \n",
       "1659     Male Characters  NaN  Living Characters       1316.0   \n",
       "1576     Male Characters  NaN  Living Characters       1237.0   \n",
       "\n",
       "        FIRST APPEARANCE    YEAR  \n",
       "page_id                           \n",
       "1422           1939, May  1939.0  \n",
       "23387      1986, October  1986.0  \n",
       "1458       1959, October  1959.0  \n",
       "1659      1987, February  1987.0  \n",
       "1576         1940, April  1940.0  "
      ]
     },
     "execution_count": 6,
     "metadata": {},
     "output_type": "execute_result"
    }
   ],
   "source": [
    "# Print the first five rows of the data\n",
    "my_data.head()"
   ]
  },
  {
   "cell_type": "code",
   "execution_count": 7,
   "id": "64813d83",
   "metadata": {
    "execution": {
     "iopub.execute_input": "2022-08-31T08:44:40.624762Z",
     "iopub.status.busy": "2022-08-31T08:44:40.624028Z",
     "iopub.status.idle": "2022-08-31T08:44:40.646379Z",
     "shell.execute_reply": "2022-08-31T08:44:40.645162Z"
    },
    "papermill": {
     "duration": 0.032156,
     "end_time": "2022-08-31T08:44:40.648994",
     "exception": false,
     "start_time": "2022-08-31T08:44:40.616838",
     "status": "completed"
    },
    "tags": []
   },
   "outputs": [
    {
     "name": "stdout",
     "output_type": "stream",
     "text": [
      "<class 'pandas.core.frame.DataFrame'>\n",
      "Int64Index: 6896 entries, 1422 to 150660\n",
      "Data columns (total 12 columns):\n",
      " #   Column            Non-Null Count  Dtype  \n",
      "---  ------            --------------  -----  \n",
      " 0   name              6896 non-null   object \n",
      " 1   urlslug           6896 non-null   object \n",
      " 2   ID                4883 non-null   object \n",
      " 3   ALIGN             6295 non-null   object \n",
      " 4   EYE               3268 non-null   object \n",
      " 5   HAIR              4622 non-null   object \n",
      " 6   SEX               6771 non-null   object \n",
      " 7   GSM               64 non-null     object \n",
      " 8   ALIVE             6893 non-null   object \n",
      " 9   APPEARANCES       6541 non-null   float64\n",
      " 10  FIRST APPEARANCE  6827 non-null   object \n",
      " 11  YEAR              6827 non-null   float64\n",
      "dtypes: float64(2), object(10)\n",
      "memory usage: 700.4+ KB\n"
     ]
    }
   ],
   "source": [
    "my_data.info()"
   ]
  },
  {
   "cell_type": "markdown",
   "id": "b44c46ca",
   "metadata": {
    "papermill": {
     "duration": 0.005445,
     "end_time": "2022-08-31T08:44:40.660422",
     "exception": false,
     "start_time": "2022-08-31T08:44:40.654977",
     "status": "completed"
    },
    "tags": []
   },
   "source": [
    "## Step 4: Visualize the data\n",
    "\n",
    "Use the next code cell to create a figure that tells a story behind your dataset.  You can use any chart type (_line chart, bar chart, heatmap, etc_) of your choosing!"
   ]
  },
  {
   "cell_type": "code",
   "execution_count": 8,
   "id": "bb50d4cb",
   "metadata": {
    "execution": {
     "iopub.execute_input": "2022-08-31T08:44:40.673713Z",
     "iopub.status.busy": "2022-08-31T08:44:40.673340Z",
     "iopub.status.idle": "2022-08-31T08:44:40.990214Z",
     "shell.execute_reply": "2022-08-31T08:44:40.989154Z"
    },
    "papermill": {
     "duration": 0.3266,
     "end_time": "2022-08-31T08:44:40.992683",
     "exception": false,
     "start_time": "2022-08-31T08:44:40.666083",
     "status": "completed"
    },
    "tags": []
   },
   "outputs": [
    {
     "data": {
      "application/javascript": [
       "parent.postMessage({\"jupyterEvent\": \"custom.exercise_interaction\", \"data\": {\"outcomeType\": 1, \"valueTowardsCompletion\": 0.25, \"interactionType\": 1, \"questionType\": 2, \"questionId\": \"4_CreatePlot\", \"learnToolsVersion\": \"0.3.4\", \"failureMessage\": \"\", \"exceptionClass\": \"\", \"trace\": \"\"}}, \"*\")"
      ],
      "text/plain": [
       "<IPython.core.display.Javascript object>"
      ]
     },
     "metadata": {},
     "output_type": "display_data"
    },
    {
     "data": {
      "text/markdown": [
       "<span style=\"color:#33cc33\">Correct:</span> \n",
       "\n"
      ],
      "text/plain": [
       "Correct: \n"
      ]
     },
     "metadata": {},
     "output_type": "display_data"
    },
    {
     "data": {
      "image/png": "[encoded data removed]",
      "text/plain": [
       "<Figure size 432x288 with 1 Axes>"
      ]
     },
     "metadata": {
      "needs_background": "light"
     },
     "output_type": "display_data"
    }
   ],
   "source": [
    "# Create a plot\n",
    "# Your code here\n",
    "\n",
    "sns.countplot(y=my_data.EYE)\n",
    "plt.tight_layout()\n",
    "\n",
    "# Check that a figure appears below\n",
    "step_4.check()"
   ]
  },
  {
   "cell_type": "code",
   "execution_count": 9,
   "id": "0c2efc84",
   "metadata": {
    "execution": {
     "iopub.execute_input": "2022-08-31T08:44:41.008164Z",
     "iopub.status.busy": "2022-08-31T08:44:41.007474Z",
     "iopub.status.idle": "2022-08-31T08:44:41.161769Z",
     "shell.execute_reply": "2022-08-31T08:44:41.160872Z"
    },
    "papermill": {
     "duration": 0.164876,
     "end_time": "2022-08-31T08:44:41.164206",
     "exception": false,
     "start_time": "2022-08-31T08:44:40.999330",
     "status": "completed"
    },
    "tags": []
   },
   "outputs": [
    {
     "data": {
      "image/png": "[encoded data removed]",
      "text/plain": [
       "<Figure size 432x288 with 1 Axes>"
      ]
     },
     "metadata": {
      "needs_background": "light"
     },
     "output_type": "display_data"
    }
   ],
   "source": [
    "# Create a plot\n",
    "# Your code here\n",
    "\n",
    "sns.countplot(y=my_data.SEX)\n",
    "plt.tight_layout()"
   ]
  },
  {
   "cell_type": "markdown",
   "id": "6db84aa8",
   "metadata": {
    "papermill": {
     "duration": 0.006359,
     "end_time": "2022-08-31T08:44:41.177387",
     "exception": false,
     "start_time": "2022-08-31T08:44:41.171028",
     "status": "completed"
    },
    "tags": []
   },
   "source": [
    "## Keep going\n",
    "\n",
    "Learn how to use your skills after completing the micro-course to create data visualizations in a **[final tutorial](https://www.kaggle.com/alexisbcook/creating-your-own-notebooks)**."
   ]
  },
  {
   "cell_type": "markdown",
   "id": "7ff579af",
   "metadata": {
    "papermill": {
     "duration": 0.006288,
     "end_time": "2022-08-31T08:44:41.190325",
     "exception": false,
     "start_time": "2022-08-31T08:44:41.184037",
     "status": "completed"
    },
    "tags": []
   },
   "source": [
    "---\n",
    "\n",
    "\n",
    "\n",
    "\n",
    "*Have questions or comments? Visit the [course discussion forum](https://www.kaggle.com/learn/data-visualization/discussion) to chat with other learners.*"
   ]
  },
  {
   "cell_type": "code",
   "execution_count": null,
   "id": "bd3d0cbb",
   "metadata": {
    "papermill": {
     "duration": 0.006288,
     "end_time": "2022-08-31T08:44:41.203191",
     "exception": false,
     "start_time": "2022-08-31T08:44:41.196903",
     "status": "completed"
    },
    "tags": []
   },
   "outputs": [],
   "source": []
  }
 ],
 "metadata": {
  "kernelspec": {
   "display_name": "Python 3",
   "language": "python",
   "name": "python3"
  },
  "language_info": {
   "codemirror_mode": {
    "name": "ipython",
    "version": 3
   },
   "file_extension": ".py",
   "mimetype": "text/x-python",
   "name": "python",
   "nbconvert_exporter": "python",
   "pygments_lexer": "ipython3",
   "version": "3.7.12"
  },
  "papermill": {
   "default_parameters": {},
   "duration": 11.561095,
   "end_time": "2022-08-31T08:44:41.829696",
   "environment_variables": {},
   "exception": null,
   "input_path": "__notebook__.ipynb",
   "output_path": "__notebook__.ipynb",
   "parameters": {},
   "start_time": "2022-08-31T08:44:30.268601",
   "version": "2.3.4"
  }
 },
 "nbformat": 4,
 "nbformat_minor": 5
}
