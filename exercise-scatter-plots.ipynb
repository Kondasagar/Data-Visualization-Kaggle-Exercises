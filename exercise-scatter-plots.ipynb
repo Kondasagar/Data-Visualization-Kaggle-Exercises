{
 "cells": [
  {
   "cell_type": "markdown",
   "id": "0c7e3900",
   "metadata": {
    "papermill": {
     "duration": 0.010457,
     "end_time": "2022-08-31T06:33:45.626746",
     "exception": false,
     "start_time": "2022-08-31T06:33:45.616289",
     "status": "completed"
    },
    "tags": []
   },
   "source": [
    "**This notebook is an exercise in the [Data Visualization](https://www.kaggle.com/learn/data-visualization) course.  You can reference the tutorial at [this link](https://www.kaggle.com/alexisbcook/scatter-plots).**\n",
    "\n",
    "---\n"
   ]
  },
  {
   "cell_type": "markdown",
   "id": "60191bea",
   "metadata": {
    "papermill": {
     "duration": 0.00885,
     "end_time": "2022-08-31T06:33:45.645045",
     "exception": false,
     "start_time": "2022-08-31T06:33:45.636195",
     "status": "completed"
    },
    "tags": []
   },
   "source": [
    "In this exercise, you will use your new knowledge to propose a solution to a real-world scenario.  To succeed, you will need to import data into Python, answer questions using the data, and generate **scatter plots** to understand patterns in the data.\n",
    "\n",
    "## Scenario\n",
    "\n",
    "You work for a major candy producer, and your goal is to write a report that your company can use to guide the design of its next product.  Soon after starting your research, you stumble across this [very interesting dataset](https://fivethirtyeight.com/features/the-ultimate-halloween-candy-power-ranking/) containing results from a fun survey to crowdsource favorite candies.\n",
    "\n",
    "## Setup\n",
    "\n",
    "Run the next cell to import and configure the Python libraries that you need to complete the exercise."
   ]
  },
  {
   "cell_type": "code",
   "execution_count": 1,
   "id": "ed59e0bc",
   "metadata": {
    "execution": {
     "iopub.execute_input": "2022-08-31T06:33:45.666525Z",
     "iopub.status.busy": "2022-08-31T06:33:45.665240Z",
     "iopub.status.idle": "2022-08-31T06:33:47.002650Z",
     "shell.execute_reply": "2022-08-31T06:33:47.001342Z"
    },
    "papermill": {
     "duration": 1.35115,
     "end_time": "2022-08-31T06:33:47.005492",
     "exception": false,
     "start_time": "2022-08-31T06:33:45.654342",
     "status": "completed"
    },
    "tags": []
   },
   "outputs": [
    {
     "name": "stdout",
     "output_type": "stream",
     "text": [
      "Setup Complete\n"
     ]
    }
   ],
   "source": [
    "import pandas as pd\n",
    "pd.plotting.register_matplotlib_converters()\n",
    "import matplotlib.pyplot as plt\n",
    "%matplotlib inline\n",
    "import seaborn as sns\n",
    "print(\"Setup Complete\")"
   ]
  },
  {
   "cell_type": "markdown",
   "id": "b3c109bc",
   "metadata": {
    "papermill": {
     "duration": 0.009372,
     "end_time": "2022-08-31T06:33:47.024979",
     "exception": false,
     "start_time": "2022-08-31T06:33:47.015607",
     "status": "completed"
    },
    "tags": []
   },
   "source": [
    "The questions below will give you feedback on your work. Run the following cell to set up our feedback system."
   ]
  },
  {
   "cell_type": "code",
   "execution_count": 2,
   "id": "f43d27ea",
   "metadata": {
    "execution": {
     "iopub.execute_input": "2022-08-31T06:33:47.046139Z",
     "iopub.status.busy": "2022-08-31T06:33:47.044762Z",
     "iopub.status.idle": "2022-08-31T06:33:47.116530Z",
     "shell.execute_reply": "2022-08-31T06:33:47.115049Z"
    },
    "papermill": {
     "duration": 0.086309,
     "end_time": "2022-08-31T06:33:47.120580",
     "exception": false,
     "start_time": "2022-08-31T06:33:47.034271",
     "status": "completed"
    },
    "tags": []
   },
   "outputs": [
    {
     "name": "stdout",
     "output_type": "stream",
     "text": [
      "Setup Complete\n"
     ]
    }
   ],
   "source": [
    "# Set up code checking\n",
    "import os\n",
    "if not os.path.exists(\"../input/candy.csv\"):\n",
    "    os.symlink(\"../input/data-for-datavis/candy.csv\", \"../input/candy.csv\") \n",
    "from learntools.core import binder\n",
    "binder.bind(globals())\n",
    "from learntools.data_viz_to_coder.ex4 import *\n",
    "print(\"Setup Complete\")"
   ]
  },
  {
   "cell_type": "markdown",
   "id": "eca27cf3",
   "metadata": {
    "papermill": {
     "duration": 0.008758,
     "end_time": "2022-08-31T06:33:47.140036",
     "exception": false,
     "start_time": "2022-08-31T06:33:47.131278",
     "status": "completed"
    },
    "tags": []
   },
   "source": [
    "## Step 1: Load the Data\n",
    "\n",
    "Read the candy data file into `candy_data`.  Use the `\"id\"` column to label the rows."
   ]
  },
  {
   "cell_type": "code",
   "execution_count": 3,
   "id": "3fef7bcf",
   "metadata": {
    "execution": {
     "iopub.execute_input": "2022-08-31T06:33:47.161194Z",
     "iopub.status.busy": "2022-08-31T06:33:47.160123Z",
     "iopub.status.idle": "2022-08-31T06:33:47.177900Z",
     "shell.execute_reply": "2022-08-31T06:33:47.176699Z"
    },
    "papermill": {
     "duration": 0.031317,
     "end_time": "2022-08-31T06:33:47.180627",
     "exception": false,
     "start_time": "2022-08-31T06:33:47.149310",
     "status": "completed"
    },
    "tags": []
   },
   "outputs": [
    {
     "data": {
      "application/javascript": [
       "parent.postMessage({\"jupyterEvent\": \"custom.exercise_interaction\", \"data\": {\"outcomeType\": 1, \"valueTowardsCompletion\": 0.3333333333333333, \"interactionType\": 1, \"questionType\": 1, \"questionId\": \"1_LoadData\", \"learnToolsVersion\": \"0.3.4\", \"failureMessage\": \"\", \"exceptionClass\": \"\", \"trace\": \"\"}}, \"*\")"
      ],
      "text/plain": [
       "<IPython.core.display.Javascript object>"
      ]
     },
     "metadata": {},
     "output_type": "display_data"
    },
    {
     "data": {
      "text/markdown": [
       "<span style=\"color:#33cc33\">Correct</span>"
      ],
      "text/plain": [
       "Correct"
      ]
     },
     "metadata": {},
     "output_type": "display_data"
    }
   ],
   "source": [
    "# Path of the file to read\n",
    "candy_filepath = \"../input/candy.csv\"\n",
    "\n",
    "# Fill in the line below to read the file into a variable candy_data\n",
    "candy_data = pd.read_csv(candy_filepath,index_col='id')\n",
    "\n",
    "# Run the line below with no changes to check that you've loaded the data correctly\n",
    "step_1.check()"
   ]
  },
  {
   "cell_type": "code",
   "execution_count": 4,
   "id": "b84d4ab7",
   "metadata": {
    "execution": {
     "iopub.execute_input": "2022-08-31T06:33:47.202672Z",
     "iopub.status.busy": "2022-08-31T06:33:47.201973Z",
     "iopub.status.idle": "2022-08-31T06:33:47.206743Z",
     "shell.execute_reply": "2022-08-31T06:33:47.205508Z"
    },
    "papermill": {
     "duration": 0.018344,
     "end_time": "2022-08-31T06:33:47.209425",
     "exception": false,
     "start_time": "2022-08-31T06:33:47.191081",
     "status": "completed"
    },
    "tags": []
   },
   "outputs": [],
   "source": [
    "# Lines below will give you a hint or solution code\n",
    "#step_1.hint()\n",
    "#step_1.solution()"
   ]
  },
  {
   "cell_type": "markdown",
   "id": "83e2c879",
   "metadata": {
    "papermill": {
     "duration": 0.009688,
     "end_time": "2022-08-31T06:33:47.229884",
     "exception": false,
     "start_time": "2022-08-31T06:33:47.220196",
     "status": "completed"
    },
    "tags": []
   },
   "source": [
    "## Step 2: Review the data\n",
    "\n",
    "Use a Python command to print the first five rows of the data."
   ]
  },
  {
   "cell_type": "code",
   "execution_count": 5,
   "id": "c83b6a6d",
   "metadata": {
    "execution": {
     "iopub.execute_input": "2022-08-31T06:33:47.253832Z",
     "iopub.status.busy": "2022-08-31T06:33:47.252912Z",
     "iopub.status.idle": "2022-08-31T06:33:47.277614Z",
     "shell.execute_reply": "2022-08-31T06:33:47.276390Z"
    },
    "papermill": {
     "duration": 0.039876,
     "end_time": "2022-08-31T06:33:47.280276",
     "exception": false,
     "start_time": "2022-08-31T06:33:47.240400",
     "status": "completed"
    },
    "tags": []
   },
   "outputs": [
    {
     "data": {
      "text/html": [
       "<div>\n",
       "<style scoped>\n",
       "    .dataframe tbody tr th:only-of-type {\n",
       "        vertical-align: middle;\n",
       "    }\n",
       "\n",
       "    .dataframe tbody tr th {\n",
       "        vertical-align: top;\n",
       "    }\n",
       "\n",
       "    .dataframe thead th {\n",
       "        text-align: right;\n",
       "    }\n",
       "</style>\n",
       "<table border=\"1\" class=\"dataframe\">\n",
       "  <thead>\n",
       "    <tr style=\"text-align: right;\">\n",
       "      <th></th>\n",
       "      <th>competitorname</th>\n",
       "      <th>chocolate</th>\n",
       "      <th>fruity</th>\n",
       "      <th>caramel</th>\n",
       "      <th>peanutyalmondy</th>\n",
       "      <th>nougat</th>\n",
       "      <th>crispedricewafer</th>\n",
       "      <th>hard</th>\n",
       "      <th>bar</th>\n",
       "      <th>pluribus</th>\n",
       "      <th>sugarpercent</th>\n",
       "      <th>pricepercent</th>\n",
       "      <th>winpercent</th>\n",
       "    </tr>\n",
       "    <tr>\n",
       "      <th>id</th>\n",
       "      <th></th>\n",
       "      <th></th>\n",
       "      <th></th>\n",
       "      <th></th>\n",
       "      <th></th>\n",
       "      <th></th>\n",
       "      <th></th>\n",
       "      <th></th>\n",
       "      <th></th>\n",
       "      <th></th>\n",
       "      <th></th>\n",
       "      <th></th>\n",
       "      <th></th>\n",
       "    </tr>\n",
       "  </thead>\n",
       "  <tbody>\n",
       "    <tr>\n",
       "      <th>0</th>\n",
       "      <td>100 Grand</td>\n",
       "      <td>Yes</td>\n",
       "      <td>No</td>\n",
       "      <td>Yes</td>\n",
       "      <td>No</td>\n",
       "      <td>No</td>\n",
       "      <td>Yes</td>\n",
       "      <td>No</td>\n",
       "      <td>Yes</td>\n",
       "      <td>No</td>\n",
       "      <td>0.732</td>\n",
       "      <td>0.860</td>\n",
       "      <td>66.971725</td>\n",
       "    </tr>\n",
       "    <tr>\n",
       "      <th>1</th>\n",
       "      <td>3 Musketeers</td>\n",
       "      <td>Yes</td>\n",
       "      <td>No</td>\n",
       "      <td>No</td>\n",
       "      <td>No</td>\n",
       "      <td>Yes</td>\n",
       "      <td>No</td>\n",
       "      <td>No</td>\n",
       "      <td>Yes</td>\n",
       "      <td>No</td>\n",
       "      <td>0.604</td>\n",
       "      <td>0.511</td>\n",
       "      <td>67.602936</td>\n",
       "    </tr>\n",
       "    <tr>\n",
       "      <th>2</th>\n",
       "      <td>Air Heads</td>\n",
       "      <td>No</td>\n",
       "      <td>Yes</td>\n",
       "      <td>No</td>\n",
       "      <td>No</td>\n",
       "      <td>No</td>\n",
       "      <td>No</td>\n",
       "      <td>No</td>\n",
       "      <td>No</td>\n",
       "      <td>No</td>\n",
       "      <td>0.906</td>\n",
       "      <td>0.511</td>\n",
       "      <td>52.341465</td>\n",
       "    </tr>\n",
       "    <tr>\n",
       "      <th>3</th>\n",
       "      <td>Almond Joy</td>\n",
       "      <td>Yes</td>\n",
       "      <td>No</td>\n",
       "      <td>No</td>\n",
       "      <td>Yes</td>\n",
       "      <td>No</td>\n",
       "      <td>No</td>\n",
       "      <td>No</td>\n",
       "      <td>Yes</td>\n",
       "      <td>No</td>\n",
       "      <td>0.465</td>\n",
       "      <td>0.767</td>\n",
       "      <td>50.347546</td>\n",
       "    </tr>\n",
       "    <tr>\n",
       "      <th>4</th>\n",
       "      <td>Baby Ruth</td>\n",
       "      <td>Yes</td>\n",
       "      <td>No</td>\n",
       "      <td>Yes</td>\n",
       "      <td>Yes</td>\n",
       "      <td>Yes</td>\n",
       "      <td>No</td>\n",
       "      <td>No</td>\n",
       "      <td>Yes</td>\n",
       "      <td>No</td>\n",
       "      <td>0.604</td>\n",
       "      <td>0.767</td>\n",
       "      <td>56.914547</td>\n",
       "    </tr>\n",
       "  </tbody>\n",
       "</table>\n",
       "</div>"
      ],
      "text/plain": [
       "   competitorname chocolate fruity caramel peanutyalmondy nougat  \\\n",
       "id                                                                 \n",
       "0       100 Grand       Yes     No     Yes             No     No   \n",
       "1    3 Musketeers       Yes     No      No             No    Yes   \n",
       "2       Air Heads        No    Yes      No             No     No   \n",
       "3      Almond Joy       Yes     No      No            Yes     No   \n",
       "4       Baby Ruth       Yes     No     Yes            Yes    Yes   \n",
       "\n",
       "   crispedricewafer hard  bar pluribus  sugarpercent  pricepercent  winpercent  \n",
       "id                                                                              \n",
       "0               Yes   No  Yes       No         0.732         0.860   66.971725  \n",
       "1                No   No  Yes       No         0.604         0.511   67.602936  \n",
       "2                No   No   No       No         0.906         0.511   52.341465  \n",
       "3                No   No  Yes       No         0.465         0.767   50.347546  \n",
       "4                No   No  Yes       No         0.604         0.767   56.914547  "
      ]
     },
     "execution_count": 5,
     "metadata": {},
     "output_type": "execute_result"
    }
   ],
   "source": [
    "# Print the first five rows of the data\n",
    "# Your code here\n",
    "candy_data.head()"
   ]
  },
  {
   "cell_type": "markdown",
   "id": "e1b112ce",
   "metadata": {
    "papermill": {
     "duration": 0.009593,
     "end_time": "2022-08-31T06:33:47.299720",
     "exception": false,
     "start_time": "2022-08-31T06:33:47.290127",
     "status": "completed"
    },
    "tags": []
   },
   "source": [
    "The dataset contains 83 rows, where each corresponds to a different candy bar.  There are 13 columns:\n",
    "- `'competitorname'` contains the name of the candy bar. \n",
    "- the next **9** columns (from `'chocolate'` to `'pluribus'`) describe the candy.  For instance, rows with chocolate candies have `\"Yes\"` in the `'chocolate'` column (and candies without chocolate have `\"No\"` in the same column).\n",
    "- `'sugarpercent'` provides some indication of the amount of sugar, where higher values signify higher sugar content.\n",
    "- `'pricepercent'` shows the price per unit, relative to the other candies in the dataset.\n",
    "- `'winpercent'` is calculated from the survey results; higher values indicate that the candy was more popular with survey respondents.\n",
    "\n",
    "Use the first five rows of the data to answer the questions below."
   ]
  },
  {
   "cell_type": "code",
   "execution_count": 6,
   "id": "8a0dbae8",
   "metadata": {
    "execution": {
     "iopub.execute_input": "2022-08-31T06:33:47.321492Z",
     "iopub.status.busy": "2022-08-31T06:33:47.320881Z",
     "iopub.status.idle": "2022-08-31T06:33:47.332929Z",
     "shell.execute_reply": "2022-08-31T06:33:47.331785Z"
    },
    "papermill": {
     "duration": 0.02576,
     "end_time": "2022-08-31T06:33:47.335273",
     "exception": false,
     "start_time": "2022-08-31T06:33:47.309513",
     "status": "completed"
    },
    "tags": []
   },
   "outputs": [
    {
     "data": {
      "application/javascript": [
       "parent.postMessage({\"jupyterEvent\": \"custom.exercise_interaction\", \"data\": {\"outcomeType\": 1, \"valueTowardsCompletion\": 0.3333333333333333, \"interactionType\": 1, \"questionType\": 1, \"questionId\": \"2_ReviewData\", \"learnToolsVersion\": \"0.3.4\", \"failureMessage\": \"\", \"exceptionClass\": \"\", \"trace\": \"\"}}, \"*\")"
      ],
      "text/plain": [
       "<IPython.core.display.Javascript object>"
      ]
     },
     "metadata": {},
     "output_type": "display_data"
    },
    {
     "data": {
      "text/markdown": [
       "<span style=\"color:#33cc33\">Correct</span>"
      ],
      "text/plain": [
       "Correct"
      ]
     },
     "metadata": {},
     "output_type": "display_data"
    }
   ],
   "source": [
    "# Fill in the line below: Which candy was more popular with survey respondents:\n",
    "# '3 Musketeers' or 'Almond Joy'?  (Please enclose your answer in single quotes.)\n",
    "more_popular = '3 Musketeers'\n",
    "\n",
    "# Fill in the line below: Which candy has higher sugar content: 'Air Heads'\n",
    "# or 'Baby Ruth'? (Please enclose your answer in single quotes.)\n",
    "more_sugar = 'Air Heads'\n",
    "\n",
    "# Check your answers\n",
    "step_2.check()"
   ]
  },
  {
   "cell_type": "code",
   "execution_count": 7,
   "id": "90f4712d",
   "metadata": {
    "execution": {
     "iopub.execute_input": "2022-08-31T06:33:47.357861Z",
     "iopub.status.busy": "2022-08-31T06:33:47.356538Z",
     "iopub.status.idle": "2022-08-31T06:33:47.361717Z",
     "shell.execute_reply": "2022-08-31T06:33:47.360576Z"
    },
    "papermill": {
     "duration": 0.018968,
     "end_time": "2022-08-31T06:33:47.364290",
     "exception": false,
     "start_time": "2022-08-31T06:33:47.345322",
     "status": "completed"
    },
    "tags": []
   },
   "outputs": [],
   "source": [
    "# Lines below will give you a hint or solution code\n",
    "#step_2.hint()\n",
    "#step_2.solution()"
   ]
  },
  {
   "cell_type": "markdown",
   "id": "8c16f9c2",
   "metadata": {
    "papermill": {
     "duration": 0.010539,
     "end_time": "2022-08-31T06:33:47.385638",
     "exception": false,
     "start_time": "2022-08-31T06:33:47.375099",
     "status": "completed"
    },
    "tags": []
   },
   "source": [
    "## Step 3: The role of sugar\n",
    "\n",
    "Do people tend to prefer candies with higher sugar content?  \n",
    "\n",
    "#### Part A\n",
    "\n",
    "Create a scatter plot that shows the relationship between `'sugarpercent'` (on the horizontal x-axis) and `'winpercent'` (on the vertical y-axis).  _Don't add a regression line just yet -- you'll do that in the next step!_"
   ]
  },
  {
   "cell_type": "code",
   "execution_count": 8,
   "id": "92263a37",
   "metadata": {
    "execution": {
     "iopub.execute_input": "2022-08-31T06:33:47.410177Z",
     "iopub.status.busy": "2022-08-31T06:33:47.409140Z",
     "iopub.status.idle": "2022-08-31T06:33:47.723534Z",
     "shell.execute_reply": "2022-08-31T06:33:47.722072Z"
    },
    "papermill": {
     "duration": 0.330597,
     "end_time": "2022-08-31T06:33:47.727244",
     "exception": false,
     "start_time": "2022-08-31T06:33:47.396647",
     "status": "completed"
    },
    "tags": []
   },
   "outputs": [
    {
     "data": {
      "application/javascript": [
       "parent.postMessage({\"jupyterEvent\": \"custom.exercise_interaction\", \"data\": {\"outcomeType\": 1, \"valueTowardsCompletion\": 0.3333333333333333, \"interactionType\": 1, \"questionType\": 2, \"questionId\": \"3.1_PlotBlueScatter\", \"learnToolsVersion\": \"0.3.4\", \"failureMessage\": \"\", \"exceptionClass\": \"\", \"trace\": \"\"}}, \"*\")"
      ],
      "text/plain": [
       "<IPython.core.display.Javascript object>"
      ]
     },
     "metadata": {},
     "output_type": "display_data"
    },
    {
     "data": {
      "text/markdown": [
       "<span style=\"color:#33cc33\">Correct</span>"
      ],
      "text/plain": [
       "Correct"
      ]
     },
     "metadata": {},
     "output_type": "display_data"
    },
    {
     "data": {
      "image/png": "[encoded data removed]",
      "text/plain": [
       "<Figure size 432x288 with 1 Axes>"
      ]
     },
     "metadata": {
      "needs_background": "light"
     },
     "output_type": "display_data"
    }
   ],
   "source": [
    "# Scatter plot showing the relationship between 'sugarpercent' and 'winpercent'\n",
    "# Your code here\n",
    "sns.scatterplot(x='sugarpercent' ,y='winpercent',data=candy_data)\n",
    "\n",
    "# Check your answer\n",
    "step_3.a.check()"
   ]
  },
  {
   "cell_type": "code",
   "execution_count": 9,
   "id": "8c0aab6f",
   "metadata": {
    "execution": {
     "iopub.execute_input": "2022-08-31T06:33:47.756075Z",
     "iopub.status.busy": "2022-08-31T06:33:47.754711Z",
     "iopub.status.idle": "2022-08-31T06:33:47.760861Z",
     "shell.execute_reply": "2022-08-31T06:33:47.759410Z"
    },
    "papermill": {
     "duration": 0.023606,
     "end_time": "2022-08-31T06:33:47.763650",
     "exception": false,
     "start_time": "2022-08-31T06:33:47.740044",
     "status": "completed"
    },
    "tags": []
   },
   "outputs": [],
   "source": [
    "# Lines below will give you a hint or solution code\n",
    "#step_3.a.hint()\n",
    "#step_3.a.solution_plot()"
   ]
  },
  {
   "cell_type": "markdown",
   "id": "554b1fc1",
   "metadata": {
    "papermill": {
     "duration": 0.011255,
     "end_time": "2022-08-31T06:33:47.786694",
     "exception": false,
     "start_time": "2022-08-31T06:33:47.775439",
     "status": "completed"
    },
    "tags": []
   },
   "source": [
    "#### Part B\n",
    "\n",
    "Does the scatter plot show a **strong** correlation between the two variables?  If so, are candies with more sugar relatively more or less popular with the survey respondents?"
   ]
  },
  {
   "cell_type": "code",
   "execution_count": 10,
   "id": "551efe0b",
   "metadata": {
    "execution": {
     "iopub.execute_input": "2022-08-31T06:33:47.812794Z",
     "iopub.status.busy": "2022-08-31T06:33:47.811729Z",
     "iopub.status.idle": "2022-08-31T06:33:48.182908Z",
     "shell.execute_reply": "2022-08-31T06:33:48.181507Z"
    },
    "papermill": {
     "duration": 0.387335,
     "end_time": "2022-08-31T06:33:48.185821",
     "exception": false,
     "start_time": "2022-08-31T06:33:47.798486",
     "status": "completed"
    },
    "tags": []
   },
   "outputs": [
    {
     "data": {
      "text/plain": [
       "<AxesSubplot:xlabel='sugarpercent', ylabel='winpercent'>"
      ]
     },
     "execution_count": 10,
     "metadata": {},
     "output_type": "execute_result"
    },
    {
     "data": {
      "image/png": "[encoded data removed]",
      "text/plain": [
       "<Figure size 432x288 with 1 Axes>"
      ]
     },
     "metadata": {
      "needs_background": "light"
     },
     "output_type": "display_data"
    }
   ],
   "source": [
    "sns.regplot(x='sugarpercent' ,y='winpercent',data=candy_data)"
   ]
  },
  {
   "cell_type": "code",
   "execution_count": 11,
   "id": "7d808bc4",
   "metadata": {
    "execution": {
     "iopub.execute_input": "2022-08-31T06:33:48.210144Z",
     "iopub.status.busy": "2022-08-31T06:33:48.209647Z",
     "iopub.status.idle": "2022-08-31T06:33:48.220708Z",
     "shell.execute_reply": "2022-08-31T06:33:48.219820Z"
    },
    "papermill": {
     "duration": 0.02596,
     "end_time": "2022-08-31T06:33:48.223142",
     "exception": false,
     "start_time": "2022-08-31T06:33:48.197182",
     "status": "completed"
    },
    "tags": []
   },
   "outputs": [
    {
     "data": {
      "application/javascript": [
       "parent.postMessage({\"jupyterEvent\": \"custom.exercise_interaction\", \"data\": {\"interactionType\": 2, \"questionType\": 4, \"questionId\": \"3.2_ThinkBlueScatter\", \"learnToolsVersion\": \"0.3.4\", \"valueTowardsCompletion\": 0.0, \"failureMessage\": \"\", \"exceptionClass\": \"\", \"trace\": \"\", \"outcomeType\": 4}}, \"*\")"
      ],
      "text/plain": [
       "<IPython.core.display.Javascript object>"
      ]
     },
     "metadata": {},
     "output_type": "display_data"
    },
    {
     "data": {
      "text/markdown": [
       "<span style=\"color:#3366cc\">Hint:</span> Compare candies with higher sugar content (on the right side of the chart) to candies with lower sugar content (on the left side of the chart). Is one group clearly more popular than the other?"
      ],
      "text/plain": [
       "Hint: Compare candies with higher sugar content (on the right side of the chart) to candies with lower sugar content (on the left side of the chart). Is one group clearly more popular than the other?"
      ]
     },
     "metadata": {},
     "output_type": "display_data"
    }
   ],
   "source": [
    "step_3.b.hint()"
   ]
  },
  {
   "cell_type": "code",
   "execution_count": 12,
   "id": "0163a50a",
   "metadata": {
    "execution": {
     "iopub.execute_input": "2022-08-31T06:33:48.248176Z",
     "iopub.status.busy": "2022-08-31T06:33:48.247304Z",
     "iopub.status.idle": "2022-08-31T06:33:48.255996Z",
     "shell.execute_reply": "2022-08-31T06:33:48.255156Z"
    },
    "papermill": {
     "duration": 0.023861,
     "end_time": "2022-08-31T06:33:48.258331",
     "exception": false,
     "start_time": "2022-08-31T06:33:48.234470",
     "status": "completed"
    },
    "tags": []
   },
   "outputs": [
    {
     "data": {
      "application/javascript": [
       "parent.postMessage({\"jupyterEvent\": \"custom.exercise_interaction\", \"data\": {\"interactionType\": 3, \"questionType\": 4, \"questionId\": \"3.2_ThinkBlueScatter\", \"learnToolsVersion\": \"0.3.4\", \"valueTowardsCompletion\": 0.0, \"failureMessage\": \"\", \"exceptionClass\": \"\", \"trace\": \"\", \"outcomeType\": 4}}, \"*\")"
      ],
      "text/plain": [
       "<IPython.core.display.Javascript object>"
      ]
     },
     "metadata": {},
     "output_type": "display_data"
    },
    {
     "data": {
      "text/markdown": [
       "<span style=\"color:#33cc99\">Solution:</span> The scatter plot does not show a strong correlation between the two variables. Since there is no clear relationship between the two variables, this tells us that sugar content does not play a strong role in candy popularity."
      ],
      "text/plain": [
       "Solution: The scatter plot does not show a strong correlation between the two variables. Since there is no clear relationship between the two variables, this tells us that sugar content does not play a strong role in candy popularity."
      ]
     },
     "metadata": {},
     "output_type": "display_data"
    }
   ],
   "source": [
    "# Check your answer (Run this code cell to receive credit!)\n",
    "step_3.b.solution()"
   ]
  },
  {
   "cell_type": "markdown",
   "id": "d2e00b44",
   "metadata": {
    "papermill": {
     "duration": 0.011362,
     "end_time": "2022-08-31T06:33:48.281624",
     "exception": false,
     "start_time": "2022-08-31T06:33:48.270262",
     "status": "completed"
    },
    "tags": []
   },
   "source": [
    "## Step 4: Take a closer look\n",
    "\n",
    "#### Part A\n",
    "\n",
    "Create the same scatter plot you created in **Step 3**, but now with a regression line!"
   ]
  },
  {
   "cell_type": "code",
   "execution_count": 13,
   "id": "4004a199",
   "metadata": {
    "execution": {
     "iopub.execute_input": "2022-08-31T06:33:48.308450Z",
     "iopub.status.busy": "2022-08-31T06:33:48.307042Z",
     "iopub.status.idle": "2022-08-31T06:33:48.684392Z",
     "shell.execute_reply": "2022-08-31T06:33:48.683040Z"
    },
    "papermill": {
     "duration": 0.393312,
     "end_time": "2022-08-31T06:33:48.687235",
     "exception": false,
     "start_time": "2022-08-31T06:33:48.293923",
     "status": "completed"
    },
    "tags": []
   },
   "outputs": [
    {
     "data": {
      "application/javascript": [
       "parent.postMessage({\"jupyterEvent\": \"custom.exercise_interaction\", \"data\": {\"outcomeType\": 1, \"valueTowardsCompletion\": 0.3333333333333333, \"interactionType\": 1, \"questionType\": 2, \"questionId\": \"4.1_PlotBlueReg\", \"learnToolsVersion\": \"0.3.4\", \"failureMessage\": \"\", \"exceptionClass\": \"\", \"trace\": \"\"}}, \"*\")"
      ],
      "text/plain": [
       "<IPython.core.display.Javascript object>"
      ]
     },
     "metadata": {},
     "output_type": "display_data"
    },
    {
     "data": {
      "text/markdown": [
       "<span style=\"color:#33cc33\">Correct</span>"
      ],
      "text/plain": [
       "Correct"
      ]
     },
     "metadata": {},
     "output_type": "display_data"
    },
    {
     "data": {
      "image/png": "[encoded data removed]",
      "text/plain": [
       "<Figure size 432x288 with 1 Axes>"
      ]
     },
     "metadata": {
      "needs_background": "light"
     },
     "output_type": "display_data"
    }
   ],
   "source": [
    "# Scatter plot w/ regression line showing the relationship between 'sugarpercent' and 'winpercent'\n",
    "# Your code here\n",
    "sns.regplot(x='sugarpercent' ,y='winpercent',data=candy_data)\n",
    "# Check your answer\n",
    "step_4.a.check()"
   ]
  },
  {
   "cell_type": "code",
   "execution_count": 14,
   "id": "5bdee6c8",
   "metadata": {
    "execution": {
     "iopub.execute_input": "2022-08-31T06:33:48.715662Z",
     "iopub.status.busy": "2022-08-31T06:33:48.714668Z",
     "iopub.status.idle": "2022-08-31T06:33:48.719367Z",
     "shell.execute_reply": "2022-08-31T06:33:48.718251Z"
    },
    "papermill": {
     "duration": 0.021773,
     "end_time": "2022-08-31T06:33:48.721907",
     "exception": false,
     "start_time": "2022-08-31T06:33:48.700134",
     "status": "completed"
    },
    "tags": []
   },
   "outputs": [],
   "source": [
    "# Lines below will give you a hint or solution code\n",
    "#step_4.a.hint()\n",
    "#step_4.a.solution_plot()"
   ]
  },
  {
   "cell_type": "markdown",
   "id": "ae12f57e",
   "metadata": {
    "papermill": {
     "duration": 0.012235,
     "end_time": "2022-08-31T06:33:48.746724",
     "exception": false,
     "start_time": "2022-08-31T06:33:48.734489",
     "status": "completed"
    },
    "tags": []
   },
   "source": [
    "#### Part B\n",
    "\n",
    "According to the plot above, is there a **slight** correlation between `'winpercent'` and `'sugarpercent'`?  What does this tell you about the candy that people tend to prefer?"
   ]
  },
  {
   "cell_type": "code",
   "execution_count": 15,
   "id": "836841fc",
   "metadata": {
    "execution": {
     "iopub.execute_input": "2022-08-31T06:33:48.775580Z",
     "iopub.status.busy": "2022-08-31T06:33:48.774401Z",
     "iopub.status.idle": "2022-08-31T06:33:48.784650Z",
     "shell.execute_reply": "2022-08-31T06:33:48.783439Z"
    },
    "papermill": {
     "duration": 0.027649,
     "end_time": "2022-08-31T06:33:48.787016",
     "exception": false,
     "start_time": "2022-08-31T06:33:48.759367",
     "status": "completed"
    },
    "tags": []
   },
   "outputs": [
    {
     "data": {
      "application/javascript": [
       "parent.postMessage({\"jupyterEvent\": \"custom.exercise_interaction\", \"data\": {\"interactionType\": 2, \"questionType\": 4, \"questionId\": \"4.2_ThinkBlueReg\", \"learnToolsVersion\": \"0.3.4\", \"valueTowardsCompletion\": 0.0, \"failureMessage\": \"\", \"exceptionClass\": \"\", \"trace\": \"\", \"outcomeType\": 4}}, \"*\")"
      ],
      "text/plain": [
       "<IPython.core.display.Javascript object>"
      ]
     },
     "metadata": {},
     "output_type": "display_data"
    },
    {
     "data": {
      "text/markdown": [
       "<span style=\"color:#3366cc\">Hint:</span> Does the regression line have a positive or negative slope?"
      ],
      "text/plain": [
       "Hint: Does the regression line have a positive or negative slope?"
      ]
     },
     "metadata": {},
     "output_type": "display_data"
    }
   ],
   "source": [
    "step_4.b.hint()"
   ]
  },
  {
   "cell_type": "code",
   "execution_count": 16,
   "id": "ab880544",
   "metadata": {
    "execution": {
     "iopub.execute_input": "2022-08-31T06:33:48.815465Z",
     "iopub.status.busy": "2022-08-31T06:33:48.814225Z",
     "iopub.status.idle": "2022-08-31T06:33:48.822929Z",
     "shell.execute_reply": "2022-08-31T06:33:48.822018Z"
    },
    "papermill": {
     "duration": 0.025344,
     "end_time": "2022-08-31T06:33:48.825212",
     "exception": false,
     "start_time": "2022-08-31T06:33:48.799868",
     "status": "completed"
    },
    "tags": []
   },
   "outputs": [
    {
     "data": {
      "application/javascript": [
       "parent.postMessage({\"jupyterEvent\": \"custom.exercise_interaction\", \"data\": {\"interactionType\": 3, \"questionType\": 4, \"questionId\": \"4.2_ThinkBlueReg\", \"learnToolsVersion\": \"0.3.4\", \"valueTowardsCompletion\": 0.0, \"failureMessage\": \"\", \"exceptionClass\": \"\", \"trace\": \"\", \"outcomeType\": 4}}, \"*\")"
      ],
      "text/plain": [
       "<IPython.core.display.Javascript object>"
      ]
     },
     "metadata": {},
     "output_type": "display_data"
    },
    {
     "data": {
      "text/markdown": [
       "<span style=\"color:#33cc99\">Solution:</span> Since the regression line has a slightly positive slope, this tells us that there is a slightly positive correlation between `'winpercent'` and `'sugarpercent'`. Thus, people have a slight preference for candies containing relatively more sugar."
      ],
      "text/plain": [
       "Solution: Since the regression line has a slightly positive slope, this tells us that there is a slightly positive correlation between `'winpercent'` and `'sugarpercent'`. Thus, people have a slight preference for candies containing relatively more sugar."
      ]
     },
     "metadata": {},
     "output_type": "display_data"
    }
   ],
   "source": [
    "# Check your answer (Run this code cell to receive credit!)\n",
    "step_4.b.solution()"
   ]
  },
  {
   "cell_type": "markdown",
   "id": "0a11c76b",
   "metadata": {
    "papermill": {
     "duration": 0.012039,
     "end_time": "2022-08-31T06:33:48.849579",
     "exception": false,
     "start_time": "2022-08-31T06:33:48.837540",
     "status": "completed"
    },
    "tags": []
   },
   "source": [
    "## Step 5: Chocolate!\n",
    "\n",
    "In the code cell below, create a scatter plot to show the relationship between `'pricepercent'` (on the horizontal x-axis) and `'winpercent'` (on the vertical y-axis). Use the `'chocolate'` column to color-code the points.  _Don't add any regression lines just yet -- you'll do that in the next step!_"
   ]
  },
  {
   "cell_type": "code",
   "execution_count": 17,
   "id": "537d6d81",
   "metadata": {
    "execution": {
     "iopub.execute_input": "2022-08-31T06:33:48.877651Z",
     "iopub.status.busy": "2022-08-31T06:33:48.876186Z",
     "iopub.status.idle": "2022-08-31T06:33:49.209471Z",
     "shell.execute_reply": "2022-08-31T06:33:49.208120Z"
    },
    "papermill": {
     "duration": 0.350474,
     "end_time": "2022-08-31T06:33:49.212681",
     "exception": false,
     "start_time": "2022-08-31T06:33:48.862207",
     "status": "completed"
    },
    "tags": []
   },
   "outputs": [
    {
     "data": {
      "application/javascript": [
       "parent.postMessage({\"jupyterEvent\": \"custom.exercise_interaction\", \"data\": {\"outcomeType\": 1, \"valueTowardsCompletion\": 0.3333333333333333, \"interactionType\": 1, \"questionType\": 2, \"questionId\": \"5_ColorScatter\", \"learnToolsVersion\": \"0.3.4\", \"failureMessage\": \"\", \"exceptionClass\": \"\", \"trace\": \"\"}}, \"*\")"
      ],
      "text/plain": [
       "<IPython.core.display.Javascript object>"
      ]
     },
     "metadata": {},
     "output_type": "display_data"
    },
    {
     "data": {
      "text/markdown": [
       "<span style=\"color:#33cc33\">Correct</span>"
      ],
      "text/plain": [
       "Correct"
      ]
     },
     "metadata": {},
     "output_type": "display_data"
    },
    {
     "data": {
      "image/png": "[encoded data removed]",
      "text/plain": [
       "<Figure size 432x288 with 1 Axes>"
      ]
     },
     "metadata": {
      "needs_background": "light"
     },
     "output_type": "display_data"
    }
   ],
   "source": [
    "# Scatter plot showing the relationship between 'pricepercent', 'winpercent', and 'chocolate'\n",
    "# Your code here\n",
    "sns.scatterplot(x='sugarpercent' ,y='winpercent',hue='chocolate', data=candy_data)\n",
    "# Check your answer\n",
    "step_5.check()"
   ]
  },
  {
   "cell_type": "code",
   "execution_count": 18,
   "id": "aab17558",
   "metadata": {
    "execution": {
     "iopub.execute_input": "2022-08-31T06:33:49.244299Z",
     "iopub.status.busy": "2022-08-31T06:33:49.243457Z",
     "iopub.status.idle": "2022-08-31T06:33:49.249085Z",
     "shell.execute_reply": "2022-08-31T06:33:49.248042Z"
    },
    "papermill": {
     "duration": 0.024435,
     "end_time": "2022-08-31T06:33:49.251682",
     "exception": false,
     "start_time": "2022-08-31T06:33:49.227247",
     "status": "completed"
    },
    "tags": []
   },
   "outputs": [],
   "source": [
    "# Lines below will give you a hint or solution code\n",
    "#step_5.hint()\n",
    "#step_5.solution_plot()"
   ]
  },
  {
   "cell_type": "markdown",
   "id": "6fae132c",
   "metadata": {
    "papermill": {
     "duration": 0.014263,
     "end_time": "2022-08-31T06:33:49.280435",
     "exception": false,
     "start_time": "2022-08-31T06:33:49.266172",
     "status": "completed"
    },
    "tags": []
   },
   "source": [
    "Can you see any interesting patterns in the scatter plot?  We'll investigate this plot further  by adding regression lines in the next step!\n",
    "\n",
    "## Step 6: Investigate chocolate\n",
    "\n",
    "#### Part A\n",
    "\n",
    "Create the same scatter plot you created in **Step 5**, but now with two regression lines, corresponding to (1) chocolate candies and (2) candies without chocolate."
   ]
  },
  {
   "cell_type": "code",
   "execution_count": 19,
   "id": "f0a05d9c",
   "metadata": {
    "execution": {
     "iopub.execute_input": "2022-08-31T06:33:49.312972Z",
     "iopub.status.busy": "2022-08-31T06:33:49.312142Z",
     "iopub.status.idle": "2022-08-31T06:33:50.013039Z",
     "shell.execute_reply": "2022-08-31T06:33:50.011772Z"
    },
    "papermill": {
     "duration": 0.720325,
     "end_time": "2022-08-31T06:33:50.015886",
     "exception": false,
     "start_time": "2022-08-31T06:33:49.295561",
     "status": "completed"
    },
    "tags": []
   },
   "outputs": [
    {
     "data": {
      "application/javascript": [
       "parent.postMessage({\"jupyterEvent\": \"custom.exercise_interaction\", \"data\": {\"outcomeType\": 1, \"valueTowardsCompletion\": 0.3333333333333333, \"interactionType\": 1, \"questionType\": 2, \"questionId\": \"6.1_PlotColorReg\", \"learnToolsVersion\": \"0.3.4\", \"failureMessage\": \"\", \"exceptionClass\": \"\", \"trace\": \"\"}}, \"*\")"
      ],
      "text/plain": [
       "<IPython.core.display.Javascript object>"
      ]
     },
     "metadata": {},
     "output_type": "display_data"
    },
    {
     "data": {
      "text/markdown": [
       "<span style=\"color:#33cc33\">Correct</span>"
      ],
      "text/plain": [
       "Correct"
      ]
     },
     "metadata": {},
     "output_type": "display_data"
    },
    {
     "data": {
      "image/png": "[encoded data removed]",
      "text/plain": [
       "<Figure size 416.375x360 with 1 Axes>"
      ]
     },
     "metadata": {
      "needs_background": "light"
     },
     "output_type": "display_data"
    }
   ],
   "source": [
    "# Color-coded scatter plot w/ regression lines\n",
    "# Your code here\n",
    "sns.lmplot(x='sugarpercent' ,y='winpercent',hue='chocolate', data=candy_data)\n",
    "# Check your answer\n",
    "step_6.a.check()"
   ]
  },
  {
   "cell_type": "code",
   "execution_count": 20,
   "id": "d688954d",
   "metadata": {
    "execution": {
     "iopub.execute_input": "2022-08-31T06:33:50.047617Z",
     "iopub.status.busy": "2022-08-31T06:33:50.046934Z",
     "iopub.status.idle": "2022-08-31T06:33:50.052095Z",
     "shell.execute_reply": "2022-08-31T06:33:50.051117Z"
    },
    "papermill": {
     "duration": 0.023605,
     "end_time": "2022-08-31T06:33:50.054397",
     "exception": false,
     "start_time": "2022-08-31T06:33:50.030792",
     "status": "completed"
    },
    "tags": []
   },
   "outputs": [],
   "source": [
    "# Lines below will give you a hint or solution code\n",
    "#step_6.a.hint()\n",
    "#step_6.a.solution_plot()"
   ]
  },
  {
   "cell_type": "markdown",
   "id": "fff8b986",
   "metadata": {
    "papermill": {
     "duration": 0.01518,
     "end_time": "2022-08-31T06:33:50.086914",
     "exception": false,
     "start_time": "2022-08-31T06:33:50.071734",
     "status": "completed"
    },
    "tags": []
   },
   "source": [
    "#### Part B\n",
    "\n",
    "Using the regression lines, what conclusions can you draw about the effects of chocolate and price on candy popularity?"
   ]
  },
  {
   "cell_type": "code",
   "execution_count": 21,
   "id": "dcefd8c4",
   "metadata": {
    "execution": {
     "iopub.execute_input": "2022-08-31T06:33:50.126053Z",
     "iopub.status.busy": "2022-08-31T06:33:50.125244Z",
     "iopub.status.idle": "2022-08-31T06:33:50.133720Z",
     "shell.execute_reply": "2022-08-31T06:33:50.132584Z"
    },
    "papermill": {
     "duration": 0.034201,
     "end_time": "2022-08-31T06:33:50.136684",
     "exception": false,
     "start_time": "2022-08-31T06:33:50.102483",
     "status": "completed"
    },
    "tags": []
   },
   "outputs": [
    {
     "data": {
      "application/javascript": [
       "parent.postMessage({\"jupyterEvent\": \"custom.exercise_interaction\", \"data\": {\"interactionType\": 2, \"questionType\": 4, \"questionId\": \"6.2_ThinkColorReg\", \"learnToolsVersion\": \"0.3.4\", \"valueTowardsCompletion\": 0.0, \"failureMessage\": \"\", \"exceptionClass\": \"\", \"trace\": \"\", \"outcomeType\": 4}}, \"*\")"
      ],
      "text/plain": [
       "<IPython.core.display.Javascript object>"
      ]
     },
     "metadata": {},
     "output_type": "display_data"
    },
    {
     "data": {
      "text/markdown": [
       "<span style=\"color:#3366cc\">Hint:</span> Look at each regression line - do you notice a positive or negative slope?"
      ],
      "text/plain": [
       "Hint: Look at each regression line - do you notice a positive or negative slope?"
      ]
     },
     "metadata": {},
     "output_type": "display_data"
    }
   ],
   "source": [
    "step_6.b.hint()"
   ]
  },
  {
   "cell_type": "code",
   "execution_count": 22,
   "id": "8b456e6f",
   "metadata": {
    "execution": {
     "iopub.execute_input": "2022-08-31T06:33:50.171281Z",
     "iopub.status.busy": "2022-08-31T06:33:50.170226Z",
     "iopub.status.idle": "2022-08-31T06:33:50.180898Z",
     "shell.execute_reply": "2022-08-31T06:33:50.179783Z"
    },
    "papermill": {
     "duration": 0.029421,
     "end_time": "2022-08-31T06:33:50.183591",
     "exception": false,
     "start_time": "2022-08-31T06:33:50.154170",
     "status": "completed"
    },
    "tags": []
   },
   "outputs": [
    {
     "data": {
      "application/javascript": [
       "parent.postMessage({\"jupyterEvent\": \"custom.exercise_interaction\", \"data\": {\"interactionType\": 3, \"questionType\": 4, \"questionId\": \"6.2_ThinkColorReg\", \"learnToolsVersion\": \"0.3.4\", \"valueTowardsCompletion\": 0.0, \"failureMessage\": \"\", \"exceptionClass\": \"\", \"trace\": \"\", \"outcomeType\": 4}}, \"*\")"
      ],
      "text/plain": [
       "<IPython.core.display.Javascript object>"
      ]
     },
     "metadata": {},
     "output_type": "display_data"
    },
    {
     "data": {
      "text/markdown": [
       "<span style=\"color:#33cc99\">Solution:</span> We'll begin with the regression line for chocolate candies. Since this line has a slightly positive slope, we can say that more expensive chocolate candies tend to be more popular (than relatively cheaper chocolate candies).  Likewise, since the regression line for candies without chocolate has a negative slope, we can say that if candies don't contain chocolate, they tend to be more popular when they are cheaper.  One important note, however, is that the dataset is quite small -- so we shouldn't invest too much trust in these patterns!  To inspire more confidence in the results, we should add more candies to the dataset."
      ],
      "text/plain": [
       "Solution: We'll begin with the regression line for chocolate candies. Since this line has a slightly positive slope, we can say that more expensive chocolate candies tend to be more popular (than relatively cheaper chocolate candies).  Likewise, since the regression line for candies without chocolate has a negative slope, we can say that if candies don't contain chocolate, they tend to be more popular when they are cheaper.  One important note, however, is that the dataset is quite small -- so we shouldn't invest too much trust in these patterns!  To inspire more confidence in the results, we should add more candies to the dataset."
      ]
     },
     "metadata": {},
     "output_type": "display_data"
    }
   ],
   "source": [
    "# Check your answer (Run this code cell to receive credit!)\n",
    "step_6.b.solution()"
   ]
  },
  {
   "cell_type": "markdown",
   "id": "d137f11d",
   "metadata": {
    "papermill": {
     "duration": 0.019893,
     "end_time": "2022-08-31T06:33:50.226156",
     "exception": false,
     "start_time": "2022-08-31T06:33:50.206263",
     "status": "completed"
    },
    "tags": []
   },
   "source": [
    "## Step 7: Everybody loves chocolate.\n",
    "\n",
    "#### Part A\n",
    "\n",
    "Create a categorical scatter plot to highlight the relationship between `'chocolate'` and `'winpercent'`.  Put `'chocolate'` on the (horizontal) x-axis, and `'winpercent'` on the (vertical) y-axis."
   ]
  },
  {
   "cell_type": "code",
   "execution_count": 23,
   "id": "9b9da546",
   "metadata": {
    "execution": {
     "iopub.execute_input": "2022-08-31T06:33:50.262929Z",
     "iopub.status.busy": "2022-08-31T06:33:50.262387Z",
     "iopub.status.idle": "2022-08-31T06:33:50.489659Z",
     "shell.execute_reply": "2022-08-31T06:33:50.488357Z"
    },
    "papermill": {
     "duration": 0.247237,
     "end_time": "2022-08-31T06:33:50.492881",
     "exception": false,
     "start_time": "2022-08-31T06:33:50.245644",
     "status": "completed"
    },
    "tags": []
   },
   "outputs": [
    {
     "data": {
      "application/javascript": [
       "parent.postMessage({\"jupyterEvent\": \"custom.exercise_interaction\", \"data\": {\"outcomeType\": 1, \"valueTowardsCompletion\": 0.3333333333333333, \"interactionType\": 1, \"questionType\": 2, \"questionId\": \"7.1_PlotSwarm\", \"learnToolsVersion\": \"0.3.4\", \"failureMessage\": \"\", \"exceptionClass\": \"\", \"trace\": \"\"}}, \"*\")"
      ],
      "text/plain": [
       "<IPython.core.display.Javascript object>"
      ]
     },
     "metadata": {},
     "output_type": "display_data"
    },
    {
     "data": {
      "text/markdown": [
       "<span style=\"color:#33cc33\">Correct</span>"
      ],
      "text/plain": [
       "Correct"
      ]
     },
     "metadata": {},
     "output_type": "display_data"
    },
    {
     "data": {
      "image/png": "[encoded data removed]",
      "text/plain": [
       "<Figure size 432x288 with 1 Axes>"
      ]
     },
     "metadata": {
      "needs_background": "light"
     },
     "output_type": "display_data"
    }
   ],
   "source": [
    "# Scatter plot showing the relationship between 'chocolate' and 'winpercent'\n",
    "# Your code here\n",
    "sns.swarmplot(x='chocolate' ,y='winpercent', data=candy_data)\n",
    "# Check your answer\n",
    "step_7.a.check()"
   ]
  },
  {
   "cell_type": "code",
   "execution_count": 24,
   "id": "50c04d51",
   "metadata": {
    "execution": {
     "iopub.execute_input": "2022-08-31T06:33:50.528230Z",
     "iopub.status.busy": "2022-08-31T06:33:50.527380Z",
     "iopub.status.idle": "2022-08-31T06:33:50.766962Z",
     "shell.execute_reply": "2022-08-31T06:33:50.765677Z"
    },
    "papermill": {
     "duration": 0.26236,
     "end_time": "2022-08-31T06:33:50.770126",
     "exception": false,
     "start_time": "2022-08-31T06:33:50.507766",
     "status": "completed"
    },
    "tags": []
   },
   "outputs": [
    {
     "data": {
      "application/javascript": [
       "parent.postMessage({\"jupyterEvent\": \"custom.exercise_interaction\", \"data\": {\"interactionType\": 3, \"questionType\": 2, \"questionId\": \"7.1_PlotSwarm\", \"learnToolsVersion\": \"0.3.4\", \"valueTowardsCompletion\": 0.0, \"failureMessage\": \"\", \"exceptionClass\": \"\", \"trace\": \"\", \"outcomeType\": 4}}, \"*\")"
      ],
      "text/plain": [
       "<IPython.core.display.Javascript object>"
      ]
     },
     "metadata": {},
     "output_type": "display_data"
    },
    {
     "data": {
      "text/markdown": [
       "<span style=\"color:#33cc99\">Solution:</span> \n",
       "```python\n",
       "# Scatter plot showing the relationship between 'chocolate' and 'winpercent'\n",
       "sns.swarmplot(x=candy_data['chocolate'], y=candy_data['winpercent'])\n",
       "\n",
       "```"
      ],
      "text/plain": [
       "Solution: \n",
       "```python\n",
       "# Scatter plot showing the relationship between 'chocolate' and 'winpercent'\n",
       "sns.swarmplot(x=candy_data['chocolate'], y=candy_data['winpercent'])\n",
       "\n",
       "```"
      ]
     },
     "metadata": {},
     "output_type": "display_data"
    },
    {
     "data": {
      "image/png": "[encoded data removed]",
      "text/plain": [
       "<Figure size 432x288 with 1 Axes>"
      ]
     },
     "metadata": {
      "needs_background": "light"
     },
     "output_type": "display_data"
    }
   ],
   "source": [
    "# Lines below will give you a hint or solution code\n",
    "#step_7.a.hint()\n",
    "step_7.a.solution_plot()"
   ]
  },
  {
   "cell_type": "markdown",
   "id": "2574f372",
   "metadata": {
    "papermill": {
     "duration": 0.020341,
     "end_time": "2022-08-31T06:33:50.812401",
     "exception": false,
     "start_time": "2022-08-31T06:33:50.792060",
     "status": "completed"
    },
    "tags": []
   },
   "source": [
    "#### Part B\n",
    "\n",
    "You decide to dedicate a section of your report to the fact that chocolate candies tend to be more popular than candies without chocolate.  Which plot is more appropriate to tell this story: the plot from **Step 6**, or the plot from **Step 7**?"
   ]
  },
  {
   "cell_type": "code",
   "execution_count": 25,
   "id": "47dc83bc",
   "metadata": {
    "execution": {
     "iopub.execute_input": "2022-08-31T06:33:50.846185Z",
     "iopub.status.busy": "2022-08-31T06:33:50.845601Z",
     "iopub.status.idle": "2022-08-31T06:33:50.851782Z",
     "shell.execute_reply": "2022-08-31T06:33:50.850430Z"
    },
    "papermill": {
     "duration": 0.02629,
     "end_time": "2022-08-31T06:33:50.854385",
     "exception": false,
     "start_time": "2022-08-31T06:33:50.828095",
     "status": "completed"
    },
    "tags": []
   },
   "outputs": [],
   "source": [
    "#step_7.b.hint()"
   ]
  },
  {
   "cell_type": "code",
   "execution_count": 26,
   "id": "149c695b",
   "metadata": {
    "execution": {
     "iopub.execute_input": "2022-08-31T06:33:50.887341Z",
     "iopub.status.busy": "2022-08-31T06:33:50.886889Z",
     "iopub.status.idle": "2022-08-31T06:33:50.897214Z",
     "shell.execute_reply": "2022-08-31T06:33:50.896146Z"
    },
    "papermill": {
     "duration": 0.029386,
     "end_time": "2022-08-31T06:33:50.899436",
     "exception": false,
     "start_time": "2022-08-31T06:33:50.870050",
     "status": "completed"
    },
    "tags": []
   },
   "outputs": [
    {
     "data": {
      "application/javascript": [
       "parent.postMessage({\"jupyterEvent\": \"custom.exercise_interaction\", \"data\": {\"interactionType\": 3, \"questionType\": 4, \"questionId\": \"7.2_ThinkSwarm\", \"learnToolsVersion\": \"0.3.4\", \"valueTowardsCompletion\": 0.0, \"failureMessage\": \"\", \"exceptionClass\": \"\", \"trace\": \"\", \"outcomeType\": 4}}, \"*\")"
      ],
      "text/plain": [
       "<IPython.core.display.Javascript object>"
      ]
     },
     "metadata": {},
     "output_type": "display_data"
    },
    {
     "data": {
      "text/markdown": [
       "<span style=\"color:#33cc99\">Solution:</span> In this case, the categorical scatter plot from **Step 7** is the more appropriate plot. While both plots tell the desired story, the plot from **Step 6** conveys far more information that could distract from the main point."
      ],
      "text/plain": [
       "Solution: In this case, the categorical scatter plot from **Step 7** is the more appropriate plot. While both plots tell the desired story, the plot from **Step 6** conveys far more information that could distract from the main point."
      ]
     },
     "metadata": {},
     "output_type": "display_data"
    }
   ],
   "source": [
    "# Check your answer (Run this code cell to receive credit!)\n",
    "step_7.b.solution()"
   ]
  },
  {
   "cell_type": "markdown",
   "id": "fff792f8",
   "metadata": {
    "papermill": {
     "duration": 0.015248,
     "end_time": "2022-08-31T06:33:50.930265",
     "exception": false,
     "start_time": "2022-08-31T06:33:50.915017",
     "status": "completed"
    },
    "tags": []
   },
   "source": [
    "## Keep going\n",
    "\n",
    "Explore **[histograms and density plots](https://www.kaggle.com/alexisbcook/distributions)**."
   ]
  },
  {
   "cell_type": "markdown",
   "id": "e47d2e20",
   "metadata": {
    "papermill": {
     "duration": 0.015391,
     "end_time": "2022-08-31T06:33:50.961122",
     "exception": false,
     "start_time": "2022-08-31T06:33:50.945731",
     "status": "completed"
    },
    "tags": []
   },
   "source": [
    "---\n",
    "\n",
    "\n",
    "\n",
    "\n",
    "*Have questions or comments? Visit the [course discussion forum](https://www.kaggle.com/learn/data-visualization/discussion) to chat with other learners.*"
   ]
  }
 ],
 "metadata": {
  "kernelspec": {
   "display_name": "Python 3",
   "language": "python",
   "name": "python3"
  },
  "language_info": {
   "codemirror_mode": {
    "name": "ipython",
    "version": 3
   },
   "file_extension": ".py",
   "mimetype": "text/x-python",
   "name": "python",
   "nbconvert_exporter": "python",
   "pygments_lexer": "ipython3",
   "version": "3.7.12"
  },
  "papermill": {
   "default_parameters": {},
   "duration": 17.452535,
   "end_time": "2022-08-31T06:33:51.801225",
   "environment_variables": {},
   "exception": null,
   "input_path": "__notebook__.ipynb",
   "output_path": "__notebook__.ipynb",
   "parameters": {},
   "start_time": "2022-08-31T06:33:34.348690",
   "version": "2.3.4"
  }
 },
 "nbformat": 4,
 "nbformat_minor": 5
}
